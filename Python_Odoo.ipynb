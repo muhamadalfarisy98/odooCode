{
  "nbformat": 4,
  "nbformat_minor": 0,
  "metadata": {
    "colab": {
      "name": "Python_Odoo.ipynb",
      "provenance": [],
      "authorship_tag": "ABX9TyNgwPxPnF/nXVjczNnjBOpc",
      "include_colab_link": true
    },
    "kernelspec": {
      "name": "python3",
      "display_name": "Python 3"
    }
  },
  "cells": [
    {
      "cell_type": "markdown",
      "metadata": {
        "id": "view-in-github",
        "colab_type": "text"
      },
      "source": [
        "<a href=\"https://colab.research.google.com/github/muhamadalfarisy98/odooCode/blob/main/Python_Odoo.ipynb\" target=\"_parent\"><img src=\"https://colab.research.google.com/assets/colab-badge.svg\" alt=\"Open In Colab\"/></a>"
      ]
    },
    {
      "cell_type": "markdown",
      "metadata": {
        "id": "6utWRR89fk6f"
      },
      "source": [
        "**BASIC PYTHON FOR ODOO**"
      ]
    },
    {
      "cell_type": "markdown",
      "metadata": {
        "id": "2XT1oEorfp0p"
      },
      "source": [
        "*WRITTEN BY : Muhamad Alfarisy*"
      ]
    },
    {
      "cell_type": "code",
      "metadata": {
        "id": "FYQoy7PKfdd4"
      },
      "source": [
        "# Dict\n",
        "def create(vals):\n",
        "  if not vals.get('sequence_id'):\n",
        "    vals.update(\n",
        "        {'sequence_id':'yaha'}\n",
        "    )\n",
        "  return vals"
      ],
      "execution_count": 4,
      "outputs": []
    },
    {
      "cell_type": "code",
      "metadata": {
        "id": "W6DWtvuuffZn"
      },
      "source": [
        "x={'nice':'cool'}"
      ],
      "execution_count": 5,
      "outputs": []
    },
    {
      "cell_type": "code",
      "metadata": {
        "id": "yebYuO3zi1mL",
        "outputId": "85e34791-118d-44e9-afe4-c75b0feb555d",
        "colab": {
          "base_uri": "https://localhost:8080/"
        }
      },
      "source": [
        "create(x)"
      ],
      "execution_count": 6,
      "outputs": [
        {
          "output_type": "execute_result",
          "data": {
            "text/plain": [
              "{'nice': 'cool', 'sequence_id': 'yaha'}"
            ]
          },
          "metadata": {
            "tags": []
          },
          "execution_count": 6
        }
      ]
    },
    {
      "cell_type": "code",
      "metadata": {
        "id": "IbenXI8qi3OU"
      },
      "source": [
        ""
      ],
      "execution_count": null,
      "outputs": []
    }
  ]
}