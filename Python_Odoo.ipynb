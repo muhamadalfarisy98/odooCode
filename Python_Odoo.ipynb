{
  "nbformat": 4,
  "nbformat_minor": 0,
  "metadata": {
    "colab": {
      "name": "Python_Odoo.ipynb",
      "provenance": [],
      "authorship_tag": "ABX9TyMHg0AE60ZKmZqH71T5Er4/",
      "include_colab_link": true
    },
    "kernelspec": {
      "name": "python3",
      "display_name": "Python 3"
    }
  },
  "cells": [
    {
      "cell_type": "markdown",
      "metadata": {
        "id": "view-in-github",
        "colab_type": "text"
      },
      "source": [
        "<a href=\"https://colab.research.google.com/github/muhamadalfarisy98/odooCode/blob/main/Python_Odoo.ipynb\" target=\"_parent\"><img src=\"https://colab.research.google.com/assets/colab-badge.svg\" alt=\"Open In Colab\"/></a>"
      ]
    },
    {
      "cell_type": "markdown",
      "metadata": {
        "id": "6utWRR89fk6f"
      },
      "source": [
        "**BASIC PYTHON FOR ODOO**"
      ]
    },
    {
      "cell_type": "code",
      "metadata": {
        "id": "HdKdRPadfsii"
      },
      "source": [
        "ModuleNotFoundError"
      ],
      "execution_count": null,
      "outputs": []
    },
    {
      "cell_type": "markdown",
      "metadata": {
        "id": "2XT1oEorfp0p"
      },
      "source": [
        "*WRITTEN BY : Muhamad Alfarisy*"
      ]
    },
    {
      "cell_type": "code",
      "metadata": {
        "id": "FYQoy7PKfdd4"
      },
      "source": [
        "## BASIC PYTHON"
      ],
      "execution_count": null,
      "outputs": []
    },
    {
      "cell_type": "code",
      "metadata": {
        "id": "W6DWtvuuffZn"
      },
      "source": [
        ""
      ],
      "execution_count": null,
      "outputs": []
    }
  ]
}